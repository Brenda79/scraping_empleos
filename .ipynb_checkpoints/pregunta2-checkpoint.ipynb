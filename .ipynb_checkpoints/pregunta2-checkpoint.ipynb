{
 "cells": [
  {
   "cell_type": "code",
   "execution_count": 2,
   "metadata": {},
   "outputs": [],
   "source": [
    "import json\n",
    "from ibm_watson import NaturalLanguageUnderstandingV1\n",
    "from ibm_cloud_sdk_core.authenticators import IAMAuthenticator\n",
    "from ibm_watson.natural_language_understanding_v1 import Features, KeywordsOptions, EntitiesOptions, CategoriesOptions, ConceptsOptions"
   ]
  },
  {
   "cell_type": "code",
   "execution_count": 3,
   "metadata": {},
   "outputs": [],
   "source": [
    "from ibm_watson.natural_language_understanding_v1 import SyntaxOptions,SyntaxOptionsTokens"
   ]
  },
  {
   "cell_type": "code",
   "execution_count": 4,
   "metadata": {},
   "outputs": [],
   "source": [
    "from ibm_watson import ApiException"
   ]
  },
  {
   "cell_type": "code",
   "execution_count": 100,
   "metadata": {},
   "outputs": [],
   "source": [
    "from getpass import getpass\n",
    "from scipy.stats import norm"
   ]
  },
  {
   "cell_type": "code",
   "execution_count": 6,
   "metadata": {},
   "outputs": [
    {
     "name": "stderr",
     "output_type": "stream",
     "text": [
      "In /home/emmanuel/miniconda3/envs/toughenv/lib/python3.7/site-packages/matplotlib/mpl-data/stylelib/_classic_test.mplstyle: \n",
      "The text.latex.preview rcparam was deprecated in Matplotlib 3.3 and will be removed two minor releases later.\n",
      "In /home/emmanuel/miniconda3/envs/toughenv/lib/python3.7/site-packages/matplotlib/mpl-data/stylelib/_classic_test.mplstyle: \n",
      "The mathtext.fallback_to_cm rcparam was deprecated in Matplotlib 3.3 and will be removed two minor releases later.\n",
      "In /home/emmanuel/miniconda3/envs/toughenv/lib/python3.7/site-packages/matplotlib/mpl-data/stylelib/_classic_test.mplstyle: Support for setting the 'mathtext.fallback_to_cm' rcParam is deprecated since 3.3 and will be removed two minor releases later; use 'mathtext.fallback : 'cm' instead.\n",
      "In /home/emmanuel/miniconda3/envs/toughenv/lib/python3.7/site-packages/matplotlib/mpl-data/stylelib/_classic_test.mplstyle: \n",
      "The validate_bool_maybe_none function was deprecated in Matplotlib 3.3 and will be removed two minor releases later.\n",
      "In /home/emmanuel/miniconda3/envs/toughenv/lib/python3.7/site-packages/matplotlib/mpl-data/stylelib/_classic_test.mplstyle: \n",
      "The savefig.jpeg_quality rcparam was deprecated in Matplotlib 3.3 and will be removed two minor releases later.\n",
      "In /home/emmanuel/miniconda3/envs/toughenv/lib/python3.7/site-packages/matplotlib/mpl-data/stylelib/_classic_test.mplstyle: \n",
      "The keymap.all_axes rcparam was deprecated in Matplotlib 3.3 and will be removed two minor releases later.\n",
      "In /home/emmanuel/miniconda3/envs/toughenv/lib/python3.7/site-packages/matplotlib/mpl-data/stylelib/_classic_test.mplstyle: \n",
      "The animation.avconv_path rcparam was deprecated in Matplotlib 3.3 and will be removed two minor releases later.\n",
      "In /home/emmanuel/miniconda3/envs/toughenv/lib/python3.7/site-packages/matplotlib/mpl-data/stylelib/_classic_test.mplstyle: \n",
      "The animation.avconv_args rcparam was deprecated in Matplotlib 3.3 and will be removed two minor releases later.\n"
     ]
    }
   ],
   "source": [
    "from pandas_profiling import ProfileReport\n",
    "import pickle"
   ]
  },
  {
   "cell_type": "code",
   "execution_count": 5,
   "metadata": {},
   "outputs": [
    {
     "name": "stdout",
     "output_type": "stream",
     "text": [
      "Enter api token········\n",
      "Enter url of service········\n"
     ]
    }
   ],
   "source": [
    "authenticator = IAMAuthenticator(getpass('Enter api token'))\n",
    "natural_language_understanding = NaturalLanguageUnderstandingV1(version='2020-08-01',authenticator=authenticator)\n",
    "natural_language_understanding.set_service_url(getpass('Enter url of service'))"
   ]
  },
  {
   "cell_type": "code",
   "execution_count": 31,
   "metadata": {},
   "outputs": [],
   "source": [
    "import pandas as pd\n",
    "import numpy as np"
   ]
  },
  {
   "cell_type": "code",
   "execution_count": 32,
   "metadata": {},
   "outputs": [],
   "source": [
    "df = pd.read_csv('trabajos_datascience.csv')"
   ]
  },
  {
   "cell_type": "code",
   "execution_count": 8,
   "metadata": {},
   "outputs": [
    {
     "data": {
      "text/html": [
       "<div>\n",
       "<style scoped>\n",
       "    .dataframe tbody tr th:only-of-type {\n",
       "        vertical-align: middle;\n",
       "    }\n",
       "\n",
       "    .dataframe tbody tr th {\n",
       "        vertical-align: top;\n",
       "    }\n",
       "\n",
       "    .dataframe thead th {\n",
       "        text-align: right;\n",
       "    }\n",
       "</style>\n",
       "<table border=\"1\" class=\"dataframe\">\n",
       "  <thead>\n",
       "    <tr style=\"text-align: right;\">\n",
       "      <th></th>\n",
       "      <th>titulo</th>\n",
       "      <th>empresa</th>\n",
       "      <th>descripcion</th>\n",
       "    </tr>\n",
       "  </thead>\n",
       "  <tbody>\n",
       "    <tr>\n",
       "      <th>0</th>\n",
       "      <td>Desarrollador de Software sin Experiencia</td>\n",
       "      <td>Minsait</td>\n",
       "      <td>Somos una de las principales empresas globales...</td>\n",
       "    </tr>\n",
       "    <tr>\n",
       "      <th>1</th>\n",
       "      <td>REDACTOR DE PRODUCCIÓN EXP. EN TV</td>\n",
       "      <td>Grupo Milenio</td>\n",
       "      <td>ESTAMOS EN BUSCA DE TU TALENTO COMO REDACTOR (...</td>\n",
       "    </tr>\n",
       "    <tr>\n",
       "      <th>2</th>\n",
       "      <td>Gerente de inteligencia comercial</td>\n",
       "      <td>Besins Healthcare México, S.A. de C.V.</td>\n",
       "      <td>Puesto: Gerente de inteligencia comercialOfrec...</td>\n",
       "    </tr>\n",
       "    <tr>\n",
       "      <th>3</th>\n",
       "      <td>Fraud Ops Analyst</td>\n",
       "      <td>Citibanamex</td>\n",
       "      <td>Publicada 13 de noviembre de 2020\\n\\nFraud Ops...</td>\n",
       "    </tr>\n",
       "    <tr>\n",
       "      <th>4</th>\n",
       "      <td>UNODC- Asistente de Proyecto</td>\n",
       "      <td>UNDP</td>\n",
       "      <td>Job Description\\n\\n\\n\\n\\n\\nAgency\\n\\n\\n\\nUN Of...</td>\n",
       "    </tr>\n",
       "  </tbody>\n",
       "</table>\n",
       "</div>"
      ],
      "text/plain": [
       "                                      titulo  \\\n",
       "0  Desarrollador de Software sin Experiencia   \n",
       "1          REDACTOR DE PRODUCCIÓN EXP. EN TV   \n",
       "2          Gerente de inteligencia comercial   \n",
       "3                          Fraud Ops Analyst   \n",
       "4               UNODC- Asistente de Proyecto   \n",
       "\n",
       "                                  empresa  \\\n",
       "0                                 Minsait   \n",
       "1                           Grupo Milenio   \n",
       "2  Besins Healthcare México, S.A. de C.V.   \n",
       "3                             Citibanamex   \n",
       "4                                    UNDP   \n",
       "\n",
       "                                         descripcion  \n",
       "0  Somos una de las principales empresas globales...  \n",
       "1  ESTAMOS EN BUSCA DE TU TALENTO COMO REDACTOR (...  \n",
       "2  Puesto: Gerente de inteligencia comercialOfrec...  \n",
       "3  Publicada 13 de noviembre de 2020\\n\\nFraud Ops...  \n",
       "4  Job Description\\n\\n\\n\\n\\n\\nAgency\\n\\n\\n\\nUN Of...  "
      ]
     },
     "execution_count": 8,
     "metadata": {},
     "output_type": "execute_result"
    }
   ],
   "source": [
    "df.head(5)"
   ]
  },
  {
   "cell_type": "code",
   "execution_count": 9,
   "metadata": {},
   "outputs": [],
   "source": [
    "def syntax_analyze(text):\n",
    "    response = natural_language_understanding.analyze(\n",
    "        text=text,\n",
    "        features=Features(syntax=SyntaxOptions(sentences=True,tokens=SyntaxOptionsTokens(part_of_speech=True))))\n",
    "    return response.get_result()"
   ]
  },
  {
   "cell_type": "code",
   "execution_count": 10,
   "metadata": {},
   "outputs": [],
   "source": [
    "def get_tokens(response,part_speech='PROPN'):\n",
    "    \n",
    "    for text in df['descripcion']:\n",
    "        propn=[]\n",
    "        for token in response['syntax']['tokens']:\n",
    "            if token['part_of_speech']==part_speech:\n",
    "                propn.append(token['text'])\n",
    "    return propn"
   ]
  },
  {
   "cell_type": "code",
   "execution_count": 15,
   "metadata": {},
   "outputs": [
    {
     "name": "stderr",
     "output_type": "stream",
     "text": [
      "ERROR:root:unsupported text language: gl\n",
      "Traceback (most recent call last):\n",
      "  File \"/home/emmanuel/miniconda3/envs/toughenv/lib/python3.7/site-packages/ibm_cloud_sdk_core/base_service.py\", line 229, in send\n",
      "    response.status_code, error_message, http_response=response)\n",
      "ibm_cloud_sdk_core.api_exception.ApiException: Error: unsupported text language: gl, Code: 400 , X-global-transaction-id: d4a537f1-b8f7-4f92-a778-01bc8389a591\n"
     ]
    },
    {
     "name": "stdout",
     "output_type": "stream",
     "text": [
      "Error: unsupported text language: gl, Code: 400 , X-global-transaction-id: d4a537f1-b8f7-4f92-a778-01bc8389a591\n"
     ]
    }
   ],
   "source": [
    "results=[]\n",
    "for text in df['descripcion']:\n",
    "    try:\n",
    "        result=get_tokens(syntax_analyze(text))\n",
    "    except (ApiException,ConnectionError) as e:\n",
    "        print(e)\n",
    "        result='NA'\n",
    "    results.append(result)"
   ]
  },
  {
   "cell_type": "code",
   "execution_count": 7,
   "metadata": {},
   "outputs": [],
   "source": [
    "#LOAD LISTS\n",
    "with open('lista_tokens.dat','rb') as f:\n",
    "    results=pickle.load(f)"
   ]
  },
  {
   "cell_type": "code",
   "execution_count": 16,
   "metadata": {},
   "outputs": [],
   "source": [
    "df['tokens']=results"
   ]
  },
  {
   "cell_type": "code",
   "execution_count": 85,
   "metadata": {},
   "outputs": [
    {
     "name": "stderr",
     "output_type": "stream",
     "text": [
      "/home/emmanuel/miniconda3/envs/toughenv/lib/python3.7/site-packages/ipykernel_launcher.py:1: VisibleDeprecationWarning: Creating an ndarray from ragged nested sequences (which is a list-or-tuple of lists-or-tuples-or ndarrays with different lengths or shapes) is deprecated. If you meant to do this, you must specify 'dtype=object' when creating the ndarray\n",
      "  \"\"\"Entry point for launching an IPython kernel.\n"
     ]
    }
   ],
   "source": [
    "save_results=np.array(results)"
   ]
  },
  {
   "cell_type": "code",
   "execution_count": 34,
   "metadata": {},
   "outputs": [
    {
     "data": {
      "text/html": [
       "<div>\n",
       "<style scoped>\n",
       "    .dataframe tbody tr th:only-of-type {\n",
       "        vertical-align: middle;\n",
       "    }\n",
       "\n",
       "    .dataframe tbody tr th {\n",
       "        vertical-align: top;\n",
       "    }\n",
       "\n",
       "    .dataframe thead th {\n",
       "        text-align: right;\n",
       "    }\n",
       "</style>\n",
       "<table border=\"1\" class=\"dataframe\">\n",
       "  <thead>\n",
       "    <tr style=\"text-align: right;\">\n",
       "      <th></th>\n",
       "      <th>titulo</th>\n",
       "      <th>empresa</th>\n",
       "      <th>descripcion</th>\n",
       "    </tr>\n",
       "  </thead>\n",
       "  <tbody>\n",
       "    <tr>\n",
       "      <th>0</th>\n",
       "      <td>Desarrollador de Software sin Experiencia</td>\n",
       "      <td>Minsait</td>\n",
       "      <td>Somos una de las principales empresas globales...</td>\n",
       "    </tr>\n",
       "    <tr>\n",
       "      <th>1</th>\n",
       "      <td>REDACTOR DE PRODUCCIÓN EXP. EN TV</td>\n",
       "      <td>Grupo Milenio</td>\n",
       "      <td>ESTAMOS EN BUSCA DE TU TALENTO COMO REDACTOR (...</td>\n",
       "    </tr>\n",
       "    <tr>\n",
       "      <th>2</th>\n",
       "      <td>Gerente de inteligencia comercial</td>\n",
       "      <td>Besins Healthcare México, S.A. de C.V.</td>\n",
       "      <td>Puesto: Gerente de inteligencia comercialOfrec...</td>\n",
       "    </tr>\n",
       "    <tr>\n",
       "      <th>3</th>\n",
       "      <td>Fraud Ops Analyst</td>\n",
       "      <td>Citibanamex</td>\n",
       "      <td>Publicada 13 de noviembre de 2020\\n\\nFraud Ops...</td>\n",
       "    </tr>\n",
       "    <tr>\n",
       "      <th>4</th>\n",
       "      <td>UNODC- Asistente de Proyecto</td>\n",
       "      <td>UNDP</td>\n",
       "      <td>Job Description\\n\\n\\n\\n\\n\\nAgency\\n\\n\\n\\nUN Of...</td>\n",
       "    </tr>\n",
       "    <tr>\n",
       "      <th>...</th>\n",
       "      <td>...</td>\n",
       "      <td>...</td>\n",
       "      <td>...</td>\n",
       "    </tr>\n",
       "    <tr>\n",
       "      <th>738</th>\n",
       "      <td>Junior NOC Analyst</td>\n",
       "      <td>Solera</td>\n",
       "      <td>The Role\\nWe're on the hunt for a Junior NOC A...</td>\n",
       "    </tr>\n",
       "    <tr>\n",
       "      <th>739</th>\n",
       "      <td>Trade Compliance Sr. Analyst</td>\n",
       "      <td>Emerson</td>\n",
       "      <td>Trade Compliance Sr. Analyst\\n\\nRequisition ID...</td>\n",
       "    </tr>\n",
       "    <tr>\n",
       "      <th>740</th>\n",
       "      <td>Business Program Manager</td>\n",
       "      <td>Microsoft</td>\n",
       "      <td>The IC3 Calling team is on a mission to delive...</td>\n",
       "    </tr>\n",
       "    <tr>\n",
       "      <th>741</th>\n",
       "      <td>Geodis Data Analyst</td>\n",
       "      <td>Esprezza</td>\n",
       "      <td>Descripción\\n.\\nExperiencia y Conocimientos\\nA...</td>\n",
       "    </tr>\n",
       "    <tr>\n",
       "      <th>742</th>\n",
       "      <td>Senior Business Developer</td>\n",
       "      <td>Nubank</td>\n",
       "      <td>About Nubank\\n\\nTackling the complex banking s...</td>\n",
       "    </tr>\n",
       "  </tbody>\n",
       "</table>\n",
       "<p>743 rows × 3 columns</p>\n",
       "</div>"
      ],
      "text/plain": [
       "                                        titulo  \\\n",
       "0    Desarrollador de Software sin Experiencia   \n",
       "1            REDACTOR DE PRODUCCIÓN EXP. EN TV   \n",
       "2            Gerente de inteligencia comercial   \n",
       "3                            Fraud Ops Analyst   \n",
       "4                 UNODC- Asistente de Proyecto   \n",
       "..                                         ...   \n",
       "738                         Junior NOC Analyst   \n",
       "739               Trade Compliance Sr. Analyst   \n",
       "740                   Business Program Manager   \n",
       "741                        Geodis Data Analyst   \n",
       "742                  Senior Business Developer   \n",
       "\n",
       "                                    empresa  \\\n",
       "0                                   Minsait   \n",
       "1                             Grupo Milenio   \n",
       "2    Besins Healthcare México, S.A. de C.V.   \n",
       "3                               Citibanamex   \n",
       "4                                      UNDP   \n",
       "..                                      ...   \n",
       "738                                  Solera   \n",
       "739                                 Emerson   \n",
       "740                               Microsoft   \n",
       "741                                Esprezza   \n",
       "742                                  Nubank   \n",
       "\n",
       "                                           descripcion  \n",
       "0    Somos una de las principales empresas globales...  \n",
       "1    ESTAMOS EN BUSCA DE TU TALENTO COMO REDACTOR (...  \n",
       "2    Puesto: Gerente de inteligencia comercialOfrec...  \n",
       "3    Publicada 13 de noviembre de 2020\\n\\nFraud Ops...  \n",
       "4    Job Description\\n\\n\\n\\n\\n\\nAgency\\n\\n\\n\\nUN Of...  \n",
       "..                                                 ...  \n",
       "738  The Role\\nWe're on the hunt for a Junior NOC A...  \n",
       "739  Trade Compliance Sr. Analyst\\n\\nRequisition ID...  \n",
       "740  The IC3 Calling team is on a mission to delive...  \n",
       "741  Descripción\\n.\\nExperiencia y Conocimientos\\nA...  \n",
       "742  About Nubank\\n\\nTackling the complex banking s...  \n",
       "\n",
       "[743 rows x 3 columns]"
      ]
     },
     "execution_count": 34,
     "metadata": {},
     "output_type": "execute_result"
    }
   ],
   "source": [
    "df"
   ]
  },
  {
   "cell_type": "code",
   "execution_count": 10,
   "metadata": {},
   "outputs": [],
   "source": [
    "artesanal='Python, R, Java, Scala, SQL, JavaScript, C++, Hadoop, Spark, PySpark, SparkR, PostgreSQL, MySQL, \\\n",
    "Transact SQL, MongoDB, Cassandra, t-sql, Machine learning, classification, clasificación, algoritmos predictivos,\\\n",
    "clustering, regresión, deep learning, Jupyter, RStudio'.lower().split(sep=', ')"
   ]
  },
  {
   "cell_type": "code",
   "execution_count": 63,
   "metadata": {},
   "outputs": [],
   "source": [
    "nube='IBM Cloud data and AI, AWS, Azure, GCP, Oracle, Anaconda, Watson Studio, Watson Machine Learning, Amazon SageMaker, \\\n",
    "Oracle, Cloud Service, Anaconda Enterprise, Cloudant, CouchDB, Db2 Event Store, Data Warehousing, \\\n",
    "BigML, AlteryxInc, Mozenda, OnBase, BigQuery, Snowflake, kubernetes, bluemix, saas, paas, iaas, databricks, \\\n",
    "bigquery, lambda, alibaba, elastic, elasticsearch'.lower().split(sep=', ')"
   ]
  },
  {
   "cell_type": "code",
   "execution_count": 78,
   "metadata": {},
   "outputs": [],
   "source": [
    "nube='IBM, AWS, Azure, GCP, Oracle, Anaconda, Watson, Amazon, SageMaker, \\\n",
    "Oracle, Cloud Service, Anaconda Enterprise, Cloudant, CouchDB, Db2 Event Store, Warehousing, \\\n",
    "BigML, AlteryxInc, Mozenda, OnBase, BigQuery, Snowflake, kubernetes, bluemix, saas, paas, iaas, databricks, \\\n",
    "bigquery, lambda, alibaba, elastic, elasticsearch, cloud, nube'.lower().split(sep=', ')"
   ]
  },
  {
   "cell_type": "code",
   "execution_count": 79,
   "metadata": {},
   "outputs": [
    {
     "data": {
      "text/plain": [
       "['ibm',\n",
       " 'aws',\n",
       " 'azure',\n",
       " 'gcp',\n",
       " 'oracle',\n",
       " 'anaconda',\n",
       " 'watson',\n",
       " 'amazon',\n",
       " 'sagemaker',\n",
       " 'oracle',\n",
       " 'cloud service',\n",
       " 'anaconda enterprise',\n",
       " 'cloudant',\n",
       " 'couchdb',\n",
       " 'db2 event store',\n",
       " 'warehousing',\n",
       " 'bigml',\n",
       " 'alteryxinc',\n",
       " 'mozenda',\n",
       " 'onbase',\n",
       " 'bigquery',\n",
       " 'snowflake',\n",
       " 'kubernetes',\n",
       " 'bluemix',\n",
       " 'saas',\n",
       " 'paas',\n",
       " 'iaas',\n",
       " 'databricks',\n",
       " 'bigquery',\n",
       " 'lambda',\n",
       " 'alibaba',\n",
       " 'elastic',\n",
       " 'elasticsearch',\n",
       " 'cloud',\n",
       " 'nube']"
      ]
     },
     "execution_count": 79,
     "metadata": {},
     "output_type": "execute_result"
    }
   ],
   "source": [
    "nube"
   ]
  },
  {
   "cell_type": "code",
   "execution_count": 24,
   "metadata": {},
   "outputs": [],
   "source": [
    "def applicar(row,categoria):\n",
    "    try:\n",
    "        return set([token.lower() for token in row]).intersection(set(categoria))\n",
    "    except TypeError as e:\n",
    "        return {}\n",
    "\n",
    "artesanales=[]\n",
    "for result in results:\n",
    "    artesanales.append(applicar(result,artesanal))\n",
    "    \n",
    "suma_art=0\n",
    "for elem in artesanales:\n",
    "    if elem:\n",
    "        suma_art+=1"
   ]
  },
  {
   "cell_type": "code",
   "execution_count": 131,
   "metadata": {},
   "outputs": [
    {
     "data": {
      "text/plain": [
       "351"
      ]
     },
     "execution_count": 131,
     "metadata": {},
     "output_type": "execute_result"
    }
   ],
   "source": [
    "suma_art"
   ]
  },
  {
   "cell_type": "code",
   "execution_count": 80,
   "metadata": {},
   "outputs": [],
   "source": [
    "nubes=[]\n",
    "for result in results:\n",
    "    nubes.append(applicar(result,nube))\n",
    "    \n",
    "suma_nube=0\n",
    "for elem in nubes:\n",
    "    if elem:\n",
    "        suma_nube+=1"
   ]
  },
  {
   "cell_type": "code",
   "execution_count": null,
   "metadata": {},
   "outputs": [],
   "source": [
    "167"
   ]
  },
  {
   "cell_type": "code",
   "execution_count": 108,
   "metadata": {},
   "outputs": [
    {
     "data": {
      "text/plain": [
       "216"
      ]
     },
     "execution_count": 108,
     "metadata": {},
     "output_type": "execute_result"
    }
   ],
   "source": [
    "suma_nube"
   ]
  },
  {
   "cell_type": "code",
   "execution_count": 92,
   "metadata": {},
   "outputs": [],
   "source": [
    "p=suma_nube/df.shape[0]"
   ]
  },
  {
   "cell_type": "code",
   "execution_count": 95,
   "metadata": {},
   "outputs": [
    {
     "data": {
      "text/plain": [
       "29.071332436069987"
      ]
     },
     "execution_count": 95,
     "metadata": {},
     "output_type": "execute_result"
    }
   ],
   "source": [
    "p*100"
   ]
  },
  {
   "cell_type": "code",
   "execution_count": 101,
   "metadata": {},
   "outputs": [],
   "source": [
    "n=df.shape[0] #tenemos muchas observaciones, entonces es adecuado usar aprox. de limites distribucionales.\n",
    "p_estimate=suma_nube/n\n",
    "alpha=0.05 # nivel de confianza del 95%\n",
    "def conf_interval(alpha,p_estim):\n",
    "    M=norm.ppf(1-alpha/2)\n",
    "    SE=np.sqrt(p_estimate*(1-p_estimate)/n)\n",
    "    return np.array([p_estimate-M*SE,p_estimate+M*SE])*100"
   ]
  },
  {
   "cell_type": "code",
   "execution_count": 111,
   "metadata": {},
   "outputs": [
    {
     "data": {
      "text/plain": [
       "0.25"
      ]
     },
     "execution_count": 111,
     "metadata": {},
     "output_type": "execute_result"
    }
   ],
   "source": [
    "15/60"
   ]
  },
  {
   "cell_type": "code",
   "execution_count": 102,
   "metadata": {},
   "outputs": [
    {
     "data": {
      "text/plain": [
       "array([25.80622818, 32.3364367 ])"
      ]
     },
     "execution_count": 102,
     "metadata": {},
     "output_type": "execute_result"
    }
   ],
   "source": [
    "conf_interval(alpha,p_estimate)"
   ]
  },
  {
   "cell_type": "code",
   "execution_count": 81,
   "metadata": {},
   "outputs": [
    {
     "data": {
      "text/plain": [
       "216"
      ]
     },
     "execution_count": 81,
     "metadata": {},
     "output_type": "execute_result"
    }
   ],
   "source": [
    "suma_nube"
   ]
  },
  {
   "cell_type": "code",
   "execution_count": 21,
   "metadata": {},
   "outputs": [
    {
     "data": {
      "text/plain": [
       "['DESARROLLADOR',\n",
       " 'FULLSTACK',\n",
       " 'Home',\n",
       " 'officeProgramación',\n",
       " 'Python',\n",
       " 'CLOUD',\n",
       " 'GCP',\n",
       " 'App',\n",
       " 'Engine',\n",
       " 'Kubernetes',\n",
       " 'big',\n",
       " 'query',\n",
       " 'APIS',\n",
       " 'Google',\n",
       " 'Cloud',\n",
       " 'Platform',\n",
       " 'Java',\n",
       " 'libresPrestaciones',\n",
       " 'IMSSInfonavit',\n",
       " 'mayoresSeguro',\n",
       " 'vidaTarjeta',\n",
       " 'descuentosGastos',\n",
       " 'funerariosSeguro',\n",
       " 'Odontológico',\n",
       " 'oftalmológicoTipo',\n",
       " 'IndefinidoSalario',\n",
       " 'mesExperiencia',\n",
       " 'GOOGLE',\n",
       " 'CLOUD',\n",
       " 'PLATFORM',\n",
       " 'Python']"
      ]
     },
     "execution_count": 21,
     "metadata": {},
     "output_type": "execute_result"
    }
   ],
   "source": [
    "results[569]"
   ]
  },
  {
   "cell_type": "code",
   "execution_count": 55,
   "metadata": {},
   "outputs": [],
   "source": [
    "n=70\n",
    "np.random.seed(10)\n",
    "index_sample=np.random.choice(range(0,len(results)),size=n,replace=False)"
   ]
  },
  {
   "cell_type": "code",
   "execution_count": 56,
   "metadata": {},
   "outputs": [
    {
     "data": {
      "text/plain": [
       "array([476, 358, 417, 194, 375, 569, 567, 294, 196, 179, 242, 354, 322,\n",
       "       620, 600, 494, 152, 230, 678, 627, 437,  27, 696, 195, 555,  45,\n",
       "       163, 408, 302,  94, 477, 292, 157, 217,  43, 374, 667, 220, 637,\n",
       "       617, 508, 329, 448, 559, 389, 495, 309, 202, 367, 580, 575, 345,\n",
       "        64, 299, 483, 599, 452, 584, 131, 726, 116, 143, 396, 285, 522,\n",
       "       254, 278, 222, 680, 475])"
      ]
     },
     "execution_count": 56,
     "metadata": {},
     "output_type": "execute_result"
    }
   ],
   "source": [
    "index_sample"
   ]
  },
  {
   "cell_type": "code",
   "execution_count": 57,
   "metadata": {},
   "outputs": [
    {
     "name": "stderr",
     "output_type": "stream",
     "text": [
      "/home/emmanuel/miniconda3/envs/toughenv/lib/python3.7/site-packages/ipykernel_launcher.py:1: VisibleDeprecationWarning: Creating an ndarray from ragged nested sequences (which is a list-or-tuple of lists-or-tuples-or ndarrays with different lengths or shapes) is deprecated. If you meant to do this, you must specify 'dtype=object' when creating the ndarray\n",
      "  \"\"\"Entry point for launching an IPython kernel.\n"
     ]
    }
   ],
   "source": [
    "array_results=np.array(results)"
   ]
  },
  {
   "cell_type": "code",
   "execution_count": 58,
   "metadata": {
    "scrolled": false
   },
   "outputs": [
    {
     "name": "stdout",
     "output_type": "stream",
     "text": [
      "['Eaton', 'Vehicle', 'TPM', 'Aguascalientes', 'Mexico', 'TPM', 'Coordinator', 'Eaton', 'CMMS', 'Oracle', 'EAM', 'CMMS', 'Assets', 'CMMS', 'CMMS', 'TPM', 'EV', 'Aguascalientes', 'BOM', 'PLC', 'Backups', 'LOTO', 'MTBF', 'MTTR', 'RT', 'DT', 'EV', 'Aguascalientes', 'LI', 'AP', 'Basic', 'Industrial', 'Maintenance', 'Mechatronics', 'CNC', 'Machines', 'English', 'Oracle', 'EAM', 'Die', 'Eaton', 'Latin', 'America', 'VEH', 'NAA', 'North', 'America', 'Auto', 'Eaton']\n",
      "---------\n",
      "\n",
      "['Consiss', 'innovation', 'labs', 'staffing', 'Norte', 'Sudamérica', 'DATA', 'ENGINEER', 'Como', 'DATA', 'ENGINEER', 'procesosTus', 'ETL', 'Data', 'Scientists', 'Data', 'Translators', 'Data', 'Lake', 'Extracción', 'Data', 'Science', 'Refactor', 'Agile', 'Data', 'Scientists', 'Data', 'Translators', 'Desarrollo', 'ETL', 's', 'Experiencia', 'Azure', 'SAP', 'Data', 'Services', 'Azure', 'Data', 'Factory', 'Azure', 'Databricks', 'Azure', 'DevOps', 'CI', 'Experiencia', 'Python', 'Scala', 'Experiencia', 'SQL', 'Programas', 'Quieres', 'CV', 'Nueva', 'Ola', 'Tecnológica', 'Fecha', 'Tipo', 'completoSalario', 'Lunes', 'viernesExperiencia', 'SAP', 'factory', 'DevOps', 'SQL', 'Procesos', 'ETL', 'Python', 'Scala', 'Nivel', 'COVID']\n",
      "---------\n",
      "\n",
      "['Paas', 'E.T.', 'L', 'lifecycle', 'E.T.', 'L', 'enhancements.You', 'Data', 'Solutions', 'Architect', 'warehouse.QUALIFICATIONS', '\\uf0b7', 'Bachelor', 'SQL', 'SQL', 'Server', 'Development', 'SQL', 'SQL', 'Server', 'Management', 'Studio', 'MySQL', 'Oracle', '\\uf0b7', 'E.T.', 'L', 'BI', 'SQL', 'Server', 'Jobs', 'Excel', '\\uf0b7', 'English', 'soloJob', 'PermanentSalary', 'monthExperience', 'PHP', 'English']\n",
      "---------\n",
      "\n",
      "['PepsiCo', 'Artificial', 'Intelligence', 'System', 'Engineer', 'PepsiCo', 'IA', 'IA', 'Data', 'Council', 'Data', 'Ui', 'Path', 'Foundation', 'Council', 'Council', 'English', 'PepsiCo', 'CV', 'PepsiCo']\n",
      "---------\n",
      "\n",
      "['Stack', 'Developer', 'Monterey', 'Mexico', 'Full', 'Stack', 'Developer', 'Blue', 'Yonder', 'Supply', 'Chain', 'Blue', 'Yonder', 'DevOps', 'UX', 'UI', 'SaaS', 'Blue', 'Yonder', 'Computer', 'Science', 'Information', 'Systems', 'Scrum', 'XM', 'Kanban', 'DevOps', 'Java', 'SaaS', 'Azure', 'AWS', 'AWS', 'Bluemix', 'Node.js', 'Java', 'ReactJS', 'Vue', 'Angular', 'Typescript', 'JavaScript', 'TypeScript', 'GraphQL', 'Git', 'Yarn', 'Gradle', 'Pypi', 'GitOps', 'Supply', 'Chain', 'Nation', 'Blue', 'Yonder', 'Supply', 'Chain', 'Nation']\n",
      "---------\n",
      "\n",
      "['DESARROLLADOR', 'FULLSTACK', 'Home', 'officeProgramación', 'Python', 'CLOUD', 'GCP', 'App', 'Engine', 'Kubernetes', 'big', 'query', 'APIS', 'Google', 'Cloud', 'Platform', 'Java', 'libresPrestaciones', 'IMSSInfonavit', 'mayoresSeguro', 'vidaTarjeta', 'descuentosGastos', 'funerariosSeguro', 'Odontológico', 'oftalmológicoTipo', 'IndefinidoSalario', 'mesExperiencia', 'GOOGLE', 'CLOUD', 'PLATFORM', 'Python']\n",
      "---------\n",
      "\n",
      "['Desarrollador', 'INTELISIS', 'Escolaridad', 'Licenciatura', 'Ingenieria', 'Sistemas', 'Computacionales', 'Informatica', 'afin.Sexo', 'IndistintoEdad', 'transportarse.Experiencia', 'minima', '-.NET', 'Visual', 'Basic.Net', 'Deseable', 'VB', 'PHP', 'HTML', 'Programacion', 'Normalizacion', 'Diagramas', 'ERBASE', 'SQL', 'Server', 'Access', 'FirebirdLENGUAJE', 'BD', 'TS', 'Itexsharp', 'Crystal', 'Report', 'Deseable', 'Data', 'ReportOfrecemos', 'Puntualidad', 'AsistenciaVales', 'despensaFondo', 'ahorroServicio', 'ComedorPrestaciones', 'Prima', 'Aguinaldo', 'Afiliacion', 'IMSS', 'Horario', 'Lunes', 'Viernes', 'Sábados', 'hrs.Lugar', 'Villa', 'Tezontepec', 'Hidalgo.Tipo', 'IndefinidoSalario', 'horasExperiencia', 'Intelisis']\n",
      "---------\n",
      "\n",
      "['Praxent', 'Praxent', 'MySQL', 'PostgreSQL', 'Linux', 'Unix', 'Git', 'Gulp', 'NPM', 'Bower', 'sysOps', 'MVC', 'Scrum', 'Kanban', 'Texas', 'Glassdoor', 'Praxent', 'Rest', 'Praxent', 'Praxent']\n",
      "---------\n",
      "\n",
      "['Guadalajara', 'North', 'Campus', 'Work', 'RFQ', 'General', 'Networking', 'Knowledge', 'Understanding', 'OSI', 'Model', 'IOS', 'IOX', 'ICND', 'CCNA', 'SNT', 'Script', 'Knowledge', 'Klemtest', 'Cisco', 'Parameters', 'Platform', 'Pyton', 'RDT', 'RDT', 'QMX', 'Tester', 'Preventive', 'Maintenance', 'Skill', 'English', 'Communication', 'Skill', 'Christmas', 'Bonus', 'Flex', 'Flex', 'CV']\n",
      "---------\n",
      "\n",
      "['DBA', 'MongoDB', 'AWS', 'DTCI', 'Direct', 'International', 'MongoDB', 'DBA', 'MongoDB', 'Database', 'Administrator', 'MongoDB', 'MongoDB', 'MongoDB', 'organizationAt', 'English']\n",
      "---------\n",
      "\n",
      "['ZD', 'English', 'CGBU', 'Oracle', 'Oracle', 'Oracle', 'Oracle', 'Communications', 'Core', 'Network', 'Eagle', 'OC', 'STP', 'EPAP', 'PCRF', 'DSR', 'Diameter', 'SS', 'TCP', 'Post', 'Diameter', 'SS', 'Sigtran', 'GSM', 'MAP', 'TCAP', 'Wireshark', 'Tshark', 'Unix', 'SS', 'Sigtran', 'GSM', 'MAP', 'TCAP', 'Core', 'Network', 'G', 'G', 'G', 'Unix', 'Oracle', 'STP', 'EPAP', 'E', 'MS', 'PCRF', 'DSR', 'Job', 'Requirements', 'Oracle', 'Oracle', 'Oracle', 'MX', 'MX', 'Mexico', 'Guadalajara', 'Zapopan', 'Oracle']\n",
      "---------\n",
      "\n",
      "['ProdDev', 'MMQ', 'English', 'Oracle', 'Cloud', 'Business', 'Operations', 'Principal', 'Program', 'Manager', 'Guadalajara', 'Mexico', 'Supply', 'Oracle', 'Oracle', 'Oracle', 'Business', 'Operations', 'Group', 'Supply', 'Chain', 'Datacenter', 'Finance', 'Cloud', 'Infrastructure', 'Supply', 'Chain', 'Excel', 'SQL', 'Bachelor', 'Supply', 'Chain', 'Technology', 'Business', 'Computer', 'Science', 'Job', 'Requirements', 'MS', 'Oracle', 'MX', 'MX', 'Mexico', 'Guadalajara', 'Zapopan', 'Oracle']\n",
      "---------\n",
      "\n",
      "['English', 'Oracle', 'Cloud', 'IaaS', 'PaaS', 'Oracle', 'Cloud', 'Secure', 'SDLC', 'Bachelor', 'Computer', 'Science', 'Java', 'C', 'Ruby', 'Research', 'SAST', 'DAST', 'IAST', 'Web', 'SAML', 'OAuth', 'Network', 'Network', 'TCP', 'UDP', 'IPSEC', 'BGP', 'Job', 'Requirements', 'MS', 'Oracle', 'MX', 'MX', 'Mexico', 'Guadalajara', 'Zapopan', 'Oracle']\n",
      "---------\n",
      "\n",
      "['CDMX', 'DIF', 'MX', 'Cartier', 'Maison', 'Business', 'Administration', 'Cartier', 'Mexico', 'Petty', 'Cash', 'Exco', 'Bdays', 'Cartier', 'Regional', 'President', 'Richemont', 'GM', 'Cartier', 'HQ', 'Exco', 'Cartier', 'Richemont', 'Boutique', 'Exco', 'Exco', 'Exco', 'Cartier', 'International', 'SIHH', 'Exco', 'Clients', 'Hotel']\n",
      "---------\n",
      "\n",
      "['IoT', 'IA', 'IoT', 'Big', 'Data', 'IA', 'Ingreso', 'lunes', 'viernes', 'Fortín', 'Zapopan', 'Programador', 'front', 'end', 'JavaScript', 'front', 'end', 'React', 'front', 'end', 'JavaScript', 'front', 'end', 'Developer', 'JAVA', 'JAVA', 'JAVA', 'Analista', 'JAVA', 'Analista', 'programador', 'JAVA', 'Dev', 'JAVA', 'Líder', 'JAVA', 'Fullstack', 'Java', 'Conocimiento', 'ReactJS', 'React', 'Native', 'front', 'Back', 'End', 'JAVA', 'framework', 'Spring', 'Spring', 'Boot', 'Hibernate', 'Postgresql', 'MySQL', 'SQL', 'Server', 'Mongo', 'DB', 'REST', 'Sistemas', 'Operativos', 'Unix', 'Linux', 'JUnit', 'Mockito', 'Git', 'AWS', 'Google', 'Cloud', 'Azure', 'Linux', 'Docker', 'Kubernetes', 'UX', 'testing', 'XP', 'Scrum', 'Talenteca.com']\n",
      "---------\n",
      "\n",
      "['Nuevo', 'León', 'Monterrey', 'Tipo', 'diciembre', 'Ma', 'J', 'Trunca', 'Compromiso', 'Planeación', 'Responsabilidad', 'Toma']\n",
      "---------\n",
      "\n",
      "['ADAS', 'LiDAR', 'Systems', 'Automotive', 'Long', 'Short', 'Range', 'LiDAR', 'System', 'Requirements', 'System', 'Lead', 'Engineer', 'System', 'ArchitectReviews', 'System', 'Requirements', 'HW', 'SW', 'Algo', 'Test', 'reviewsBaselines', 'System', 'Requirements', 'planningRisk', 'assesments', 'releaseFunctional', 'Safety', 'Cybersecurity', 'System', 'requirementsHarmonize', 'System', 'Requirements', 'requirementsSupport', 'requirementsManagement', 'Fluent', 'English', 'TOEIC', 'Level', 'Design', 'V', 'Cyber', 'Security', 'CANoe', 'CANalizer', 'XiL', 'HiL', 'SiL', 'Gehaltsbonus', 'Arbeitszeiten', 'Mitarbeiter', 'werben', 'Mitarbeiter', 'Kantine', 'Reisekostenzulage', 'Lebensversicherung', 'und', 'Trainingsangebot', 'Safety', 'Business', 'Area', 'Vision', 'Zero', 'Safety', 'BR', 'Spezialisten', 'aus', 'unterschiedlichen', 'Disziplinen', 'treiben', 'Trend', 'des', 'Automatisierten', 'Fahrens', 'mit', 'aller', 'Innovationskraft', 'voran', 'Direkt', 'zur', 'Karriere', 'Website']\n",
      "---------\n",
      "\n",
      "['Sr', 'Hermetic', 'Motor', 'Mexico', 'Reynosa', 'Nov', 'Assist', 'Receiving', 'Business', 'Administration', 'English', 'Spanish', 'Excel', 'Oracle', 'ERP', 'APICS', 'Certified', 'Supply', 'Chain', 'Professional', 'EMERSON', 'Diversity', 'Emerson', 'Emerson', 'Diversity', 'Emerson', 'EMERSON', 'Emerson', 'Solutions']\n",
      "---------\n",
      "\n",
      "['FP', 'EDS', 'North', 'America', 'L', 'SME', 'SG', 'FP', 'ManagerNo', 'Aptiv']\n",
      "---------\n",
      "\n",
      "['Demand', 'Planner', 'SAP', 'SCM', 'APO', 'Demand', 'Demand', 'Planner', 'Demand', 'Planning', 'Center', 'Excellence', 'Materials', 'Business', 'Unit', 'Bachelor', 'Business', 'Administration', 'Operations', 'APO', 'MS', 'Excel']\n",
      "---------\n",
      "\n",
      "['English', 'positionSalesforce', 'Apex', 'Lightning', 'componentsHas', 'Salesforce', 'requirementsUnderstand', 'DevelopCustom', 'fieldsCustom', 'AppExchange', 'Apex', 'ETL', 'Agile', 'flowsTipo', 'de', 'Tiempo', 'completo', 'IndefinidoSalario', 'Hasta', 'al', 'mesHorario', 'Lunes', 'viernesTurno', 'de']\n",
      "---------\n",
      "\n",
      "['Capital', 'Empresarial', 'Horizonte', 'Empresa', 'Recursos', 'Humanos', 'Tecnologías', 'AWS', 'DEVOPS', 'Ciudad', 'Querétaro', 'Guadalajara', 'Indistinta', 'Sistemas', 'Informática', 'Indistinto', 'Sexo', 'Indistinto', 'Mínima', 'Experiencia', 'Python', 'AWS', 'Cloudformation', 'Lambda', 'Base', 'Metodologías', 'Integración', 'Continua', 'Experiencia', 'Jenkins', 'Conocimiento', 'Git', 'Conocimiento', 'Docker', 'Soft', 'Skills', 'ServiceNow', 'Horario', 'Lunes', 'Viernes', 'Prestaciones', 'SV', 'Vales', 'PTU', 'Word', 'Lic', 'Nayeli', 'Barrientos']\n",
      "---------\n",
      "\n",
      "['Rockwell', 'Automation', 'Allen', 'Bradley', '®', 'Rockwell', 'Software', 'Rockwell', 'Automation', 'Analystis', 'Global', 'Trade', 'CGT', 'Harmonized', 'Tariff', 'Codes', 'HTS', 'Export', 'Control', 'Classification', 'Number', 'ECCN', 'Origin', 'Order', 'ETO', 'Tariff', 'WCO', 'oU', 'S.', 'Export', 'Administration', 'Regulations', 'Commerce', 'Control', 'Origin', 'Trade', 'Agreements', 'US', 'ECCN', 'Material', 'Providessupport', 'Rockwell', 'Automation', 'B.A.', 'International', 'Business', '\\uf0b7', 'Customs', 'Broker', 'License', 'Office', 'Excel', 'GTS']\n",
      "---------\n",
      "\n",
      "['Consiss', 'innovation', 'labs', 'staffing', 'Norte', 'Sudamérica', 'DATA', 'ENGINEER', 'DATA', 'ENGINEER', 'ETL', 'Data', 'Scientists', 'Data', 'Translators', 'Responsabilidades', 'Data', 'Lake', 'Data', 'Science', 'Refactor', 'Agile', 'Data', 'Scientists', 'Data', 'Translators', 'ETL', '’', 's', 'Experiencia', 'Azure', 'SAP', 'Data', 'Services', 'Azure', 'Data', 'Factory', 'Azure', 'Databricks', 'Azure', 'DevOps', 'CI', 'Experiencia', 'Python', 'Scala', 'Experiencia', 'SQL', 'Programas', 'Quieres', 'CV', 'Nueva', 'Ola', 'Tecnológica']\n",
      "---------\n",
      "\n",
      "['empleoEmpresa', 'Desarrollador', 'Web', 'Becario', 'CV.Requisitos', 'Sexo', 'Edo', 'indistintoEscolaridad', 'Pasante', 'Ing', 'IntermedioExcelente', 'actitudExperiencia', 'PHP', 'JavaScript', 'HTML', 'CSS', 'wordpress', 'nativas.Ofrecemos', 'Tiempo', 'completoApoyo', 'conocimientosZona', 'Villa', 'CortesTipo', 'Beca', 'IndefinidoSalario', 'Tipo', 'Lunes', 'viernesTurno', 'horasExperiencia']\n",
      "---------\n",
      "\n",
      "['CRECIMIETO', 'SOLICITA', 'Especialista', 'MicrosoftIngeniero', 'Electrónica', 'Sistemas', 'Telecomunicaciones.EXPERIENCIA', 'Microsoft', 'Implementar', 'Soluciones', 'Microsoft', 'Directorio', 'Activo', 'Exchange', 'Skype', 'Teams', 'Project', 'To', 'Do', 'AZURE', 'O', 'Directorio', 'Activo', 'Exchange', 'Documentar', 'Arquitecturas', 'CERTIFICACIÓN', 'MICROSOFT', 'MCSEZona', 'Sur', 'CDMX', 'Six', 'flags', 'Titulo', 'Cédula', 'Transcript', 'Microsoft', 'MCSA', 'Exchange', 'Office', 'Azure', 'Forzoso', 'Base', 'Datos', 'SQLPostúlate', 'mails', 'Tipo', 'IndefinidoSalario']\n",
      "---------\n",
      "\n",
      "['Mexico', 'City', 'Mexico', 'Chr', 'Applications', 'Laboratory', 'Food', 'Engineer', 'Biochemist', 'Engineer', 'Quality', 'Control', 'Natural', 'Colors', 'English', 'Chr', 'Hansen', 'Chr', 'Chr', 'Hansen', 'TSR', 'CIU', 'GEC', 'ELN', 'FQ', 'Minolta', 'SDS', 'CoA', 'Hansen', 'CWS', 'ELN', 'Chr', 'Chr', 'Chr', 'Chr', 'Hansen', 'Chr', 'Hansen', 'World', 'Corporate', 'Knights']\n",
      "---------\n",
      "\n",
      "['development.The', 'Bachelor', 'Computer', 'Science', 'Participate', 'Java', 'English', 'Operating', 'Systems', 'Linux', 'JSP', 'C', 'C', 'IndefinidoSalario', 'al', 'mesHorario', 'Turno', 'de', 'Java', 'Requisito', 'mínimo', 'Trabajar']\n",
      "---------\n",
      "\n",
      "['Charger', 'Logistics', 'HAZMAT', 'cargo.Charger', 'Monterrey', 'Mexico.This', 'implementation.Responsibilities', 'organizationScripting', 'RPA', 'UiPath', 'Quality', 'Assurance', 'Bachelor', 'Computer', 'Science', 'Computer', 'Engineering', 'MIS', 'VBAs', 'Visual', 'Studio', 'ASP.net', 'WCF', 'improvementA', 'skillsTechnical', 'services.Strong', 'Knowledge', 'English', 'UiPath', 'REFramework', 'SeleniumCertification', 'Robotics', 'Automation', 'plusJob', 'PermanentWork']\n",
      "---------\n",
      "\n",
      "['Capital', 'Empresarial', 'Horizonte', 'Empresa', 'Recursos', 'Humanos', 'Tecnologías', 'Información', 'Solicita', 'Google', 'Cloud', 'AdminPara', 'Guadalajara', 'Querétaro', 'Ciudad', 'MéxicoPerfilEscolaridad', 'Sistemas', 'Informática', 'AvanzadoExperiencia', 'Mínima', 'Stack', 'Administre', 'SSH', 'Google', 'Cloud', 'GCP', 'Experimente', 'ETL', 'ELT', 'WAN', 'LAN', 'red.Ofrecemos', 'Prestaciones', 'SV', 'Vales', 'PTU', 'Interesados', 'Word', 'laLic', 'Claudia', 'Medina', 'IndefinidoSalario', 'mesExperiencia', 'WAN', 'LAN', 'Stack', 'Google', 'Cloud', 'ETL', 'ELT', 'Idioma', 'Nivel', 'COVID']\n",
      "---------\n",
      "\n",
      "['Eaton', 'Monterrey', 'Office', 'Eaton', 'PMC', 'PMC', 'PMC', 'GAP', 'Analysis', 'Eaton', 'PMC', 'CCR', 'Eaton', 'Danfoss', 'S.', 'Hydraulics', 'Business', 'Danfoss', 'S.', 'Eaton', 'Hydraulics', 'Business', 'Danfoss', 'S', 'LI', 'PR', 'Basic', 'Hydraulics', 'Bachelor', 'CFPS', 'CFPE', 'Eaton', 'Hydraulics', 'Broad', 'Microsoft', 'Office', 'Broad', 'Siebel', 'CRM', 'C', 'Microsoft', 'Office', 'Eaton', 'Latin', 'America', 'HYD', 'Hydraulics', 'Group', 'Eaton']\n",
      "---------\n",
      "\n",
      "['OOP', 'knowledge', 'Visual', 'Basic', 'strong', 'SQL', 'Server', 'SP', 'Tirggers', 'Web', 'Services', 'AgileTipo', 'IndefinidoSalario', 'mesExperiencia', 'Agile', 'Idioma', 'Advanced', 'English', 'skills']\n",
      "---------\n",
      "\n",
      "['Foxconn', 'Foxconn', 'Technology', 'Group', 'Foxconn', 'Foxconn', 'US', 'Fortune', 'Global', 'Forbes', 'World', 'Best', 'Employers', 'Forbes', 'Global', 'D', 'Foxconn', 'China', 'Taiwan', 'PCs', 'Industry', 'IOT', 'Robotic', 'OEE', 'IoT', 'Tier', 'Robotic', 'Robotic', 'Production', 'Flow', 'MFG', 'D', 'Solid', 'Autodesk', 'AutoCAD', 'Microsoft', 'Office', 'Excel', 'Word', 'Outlook', 'Robotic', 'Robotic', 'Production', 'Flow', 'MFG', 'Ciudad', 'Juarez', 'Mexico', 'Foxconn', 'EEO', 'Foxconn', 'JazzHR', 'UPPOEkSfQX']\n",
      "---------\n",
      "\n",
      "['Juarez', 'Mexico', 'Job', 'Summary', 'CMM', 'Engineering', 'Drawings', 'CAD', 'CAPA', '\\uf0b7', 'Implement', 'IATF', '\\uf0b7', 'Conduct', 'RCA', 'CAPA', '\\uf0b7', 'Conduct', 'CP', 'CPK', 'Diploma', 'Mechanical', '\\uf0b7', 'Six', 'Sigma', 'Green', 'Belt', 'ERP', 'Heat', 'MS']\n",
      "---------\n",
      "\n",
      "['Buenas', 'Prácticas', 'Fabricación', 'Coordinar', 'RAP', 'Coordinar', 'Elaborar', 'Expediente', 'Maestro', 'Fabricación', 'Avisos', 'Maquila', 'Acuerdos', 'Técnicos', 'Auditorías', 'Internas', 'Clientes', 'Auditorías', 'Regulatorias', 'Auditorías', 'Terceros', 'Desviaciones', 'Controles', 'Cambio', 'Revisar', 'VCP', 'Lic', 'QFB', 'Ing', 'Química', 'NOM', 'SSA', 'ICH', 'OMS', 'FEUM', 'UPS']\n",
      "---------\n",
      "\n",
      "['John', 'Deere', 'Mexico', 'MX', 'Coahuila', 'HW', 'SW', 'Labview', 'HW', 'SW', 'Development', 'Lifecycle', 'SW', 'C', 'C', 'Labview', 'NI', 'Data', 'Acquisition', 'DAQ', 'HW', 'Pspice', 'MathCAD', 'SPC', 'GR', 'R', 'Monte', 'Carlo', 'HW', 'Op', 'Amp', 'FET', 'D', 'English', 'Stand', 'Out', 'FlexRay', 'Ethernet', 'MathCAD', 'Orcad', 'Pspice', 'J', 'CMMI', 'ISO', 'Minimum', 'B.S.', 'Computer', 'Engineering', 'FlexRay', 'Ethernet', 'MathCAD', 'Orcad', 'Pspice', 'J', 'CMMI', 'ISO', 'Minimum', 'B.S.', 'Computer', 'Engineering']\n",
      "---------\n",
      "\n",
      "['#About', 'Ironhack', 'Ironhack', 'University', 'Wharton', 'Harvard', 'gradsOperations', 'Miami', 'Madrid', 'Barcelona', 'Paris', 'Mexico', 'City', 'Lisbon', 'Amsterdam', 'Sao', 'Paulo', 'Berlin', 'YoY', 'Growth', 'Lead', 'Teacher', 'Time', 'Data', 'Analytics', 'impartirán', 'en', 'Español', 'Inglés', 'Ironhack', 'Saturdays', 'Teaching', 'Assistants', 'TA', 'Power', 'BI', 'Databases', 'RESTful', 'APIs', 'Web', 'Scraping', 'English', 'US', '+', 'LATAM', 'Tons', 'instructorsLearn']\n",
      "---------\n",
      "\n",
      "['Mexico', 'skills.Job', 'DescriptionSmart', 'Capital', 'Center', 'investors.Smart', 'Capital', 'Center', 'USA', 'Smart', 'Capital', 'Center', 'startup.As', 'ideas.OPPORTUNITYWe', 'us.You', 'LinkedIn', 'Smart', 'Capital', 'Center', 'customersHave', 'strategyHunt', 'materialConduct', 'customersAbility', 'SaaS', 'estatePro', 'etcTremendous', 'throughAn', 'BA', 'preferredJob', 'timePay', 'monthSchedule', 'shiftMonday', 'FridayEducation', 'English']\n",
      "---------\n",
      "\n",
      "['Fenergo', 'Client', 'Lifecycle', 'Management', 'AML', 'KYC', 'Compliance', 'Excelian', 'Luxoft', 'Fenergo', 'Fenergo', 'Software', 'Delivery', 'Lifecycle', 'SDLC', 'Fenergo', 'Fenergo']\n",
      "---------\n",
      "\n",
      "['John', 'Deere', 'Mexico', 'MX', 'Coahuila', 'Order', 'Fulfillment', 'Process', 'Mechanic', 'Engineering']\n",
      "---------\n",
      "\n",
      "['Desarrollador', 'NetEmpresa', 'Mexicana', 'Líder', 'Tecnologías', 'Información', ':', 'Desarrollador', 'NetZONA', 'Barranca', 'muertoESCOLARIDAD', 'Licenciatura', 'Sistemas', 'Computación', 'afínEXPERIENCIA', 'Mínima', 'NetC', 'SQL', 'MySQL.NET', 'Framework', 'Net', 'CoreCOMPETENCIAS', 'Analisis', 'Planeación', 'actividadesResponsabilidad', 'resultados.OFRECEMOS', 'Campañas', 'Seguro', 'vida.Prestaciones', 'LeyBonos', 'Certificación', 'Clases', 'Gratuitas.Si', 'Whatsapp', 'Praxis', 'virus', 'Inmunodeficiencia', 'Humana', 'VHI', 'Tipo', 'IndefinidoSalario', 'mesTipo', 'IndefinidoSalario', 'Programa', 'referidosSeguro', 'vidaTrabajar', 'casaVacaciones', 'Lunes', 'viernesTurno', 'COVID']\n",
      "---------\n",
      "\n",
      "['CV', 'Mexico', 'Bachelor', 'English', 'Node.js', 'MySQL', 'MongoDB', 'UI', 'Identify', 'Identify', 'AWS', 'Tipo', 'de', 'Tiempo', 'completo', 'IndefinidoSalario', 'Requisito', 'mínimo', 'Requisito', 'Nivel', 'de', 'Inglés', 'Nivel', 'Requisito', 'mínimo', 'Trabajar', 'Sí']\n",
      "---------\n",
      "\n",
      "['Marketing', 'Analytics', 'LeadThis', 'Mexico', 'Marketing', 'Data', 'Sciences', 'USA', 'KPIs', 'Datorama', 'fieldKnowledge', 'preferredProficiency', 'domainIn', 'packagesDatorama', 'Tableau', 'noDatorama', 'Datorama', 'deliver.Knowledge', 'Google', 'platformsKnowledge', 'SQL', 'requiredGood', 'English', 'skillsAbility', 'teamJob', 'ContractPay', 'shiftCOVID', 'remoteWork']\n",
      "---------\n",
      "\n",
      "['SVAM', 'TIC', 'Net', 'Core', 'Aguascalientes', 'CV', 'ASP', 'NET', 'CORE', 'VB', 'SQL', 'bootstrap', 'ASP', 'NET', 'JavaScript', 'Jquery', 'Patrón', 'diseño', 'Mandatorio', 'MVC', 'Opcional', 'Mandatorio', 'SQL', 'Server', 'SCRUM', 'Software', 'Evaluación', 'Evaluación', 'RH', 'Evaluación', 'Evaluación', 'PM', 'Infonavit', 'RCV', 'Capacitación', 'Gastos', 'Mayores']\n",
      "---------\n",
      "\n",
      "['Brightcove', 'Brightcove', 'Brightcove', 'Brightcove', 'Brightcovers', 'Guadalajara', 'Architect', 'Project', 'Manager', 'OO', 'Design', 'Node.js', 'Angular', 'Meteor', 'AWS', 'Brightcove', 'Brightcove', 'Brightcove', 'Boston', 'Covid', 'Guadalajara', 'Puerta', 'de', 'Hierro', 'Guadalajara', 'Brightcove', 'Brightcove', 'English']\n",
      "---------\n",
      "\n",
      "['Stefanini', 'México', 'SA', 'CV', 'Tecnologías', 'Información', 'Sao', 'Paulo', 'Brasil', 'América', 'Latina', 'América', 'Norte', 'Europa', 'Oceanía', 'África', 'Asía', 'Stefanini', 'Financiero', 'Retail', 'Telecom', 'Seguros', 'Tecnología', 'Java', 'Agave', 'Linux', 'Unix', 'SQL', 'Oracle', 'Conocimientos', 'Web', 'Services', 'SOAP', 'REST', 'Spring', 'Hibernate', 'JavaScript', 'HTML', 'Liderazgo', 'Foco', 'GYM', 'Talenteca.com']\n",
      "---------\n",
      "\n",
      "['Tiempo', 'Development', 'Tiempo', 'Tempe', 'Arizona', 'Mexico', 'U.S.', 'Guadalajara', 'Monterrey', 'Hermosillo', 'React', 'Native', 'Hybrid', 'CI', 'CD', 'Solid', 'ORM', 'OOD', 'Dev', 'Ops', 'App', 'Center', 'UI', 'Appium', 'AWS', 'API', 'Gateway', 'Lambda', 'Jenkins', 'Christmas', 'IMSS', 'Afore', 'Infonavit']\n",
      "---------\n",
      "\n",
      "['Google', 'Cloud', 'Google', 'GCP', 'Por', 'contratoSalario', 'mesExperiencia', 'BigData', 'Idioma', 'Advanced', 'English', 'skills']\n",
      "---------\n",
      "\n",
      "['America', 'DAT', 'Cisco', 'Advanced', 'Services', 'Services', 'Delivery', 'Solutions', 'Proposal', 'Advisor', 'DAT', 'BDM', 'Propose', 'Business', 'Developer', 'Deal', 'Accelerator', 'BDM', 'DAT', 'Estimating', 'IDT', 'SMEs', 'Business', 'Developer', 'Business', 'Development', 'Advanced', 'Services', 'Business', 'Development', 'Transformation', 'Office', 'Science', 'Professional', 'Experience', 'Professional', 'Services', 'Services', 'Delivery', 'Business', 'Operations', 'Network', 'Consulting', 'Engineer', 'CCNA', 'CCNP', 'CCIE', 'Cisco', 'Datacenter', 'Infrastructure', 'Broad', 'Cisco', 'Cross', 'Financial', 'Force', 'SMEs', 'Cisco', 'Cisco', 'Cisco', 'Services', 'Smart', 'Cities']\n",
      "---------\n",
      "\n",
      "['TELCEL', 'Desarrollador', 'Back', 'End', 'Java', 'Java', 'Spring', 'FrameworkBase', 'SQL', 'NoSQL', 'MySQL', 'Oracle', 'SOAP', 'REST', 'Clientes', 'Springboot', 'Spring', 'MVC', 'Spring', 'Security', 'Spring', 'Data', 'Spring', 'CloudProcesos', 'BatchPools', 'hilosJenkins', 'GIT', 'Cloud', 'Google', 'Cloud', 'AWS', 'LinuxKubernetes', 'DockerQue', 'testing', 'Junit', 'Conocimiento', 'SQL', 'NoSQL', 'MySQL', 'Oracle', 'Mongo', 'Redis', 'Cassandra', 'SOAP', 'REST', 'Clientes', 'Springboot', 'Spring', 'MVC', 'Spring', 'Security', 'Spring', 'Data', 'Spring', 'Cloud', 'Procesos', 'Batch', 'Pools', 'Testing', 'Junit', 'Jenkins', 'GIT', 'Cloud', 'Google', 'Cloud', 'AWS', 'Sistemas', 'Linux', 'Kubernetes', 'DockerJob', 'Types', 'Full', 'PermanentSalary', 'monthExperience', 'JAVA', 'Preferred']\n",
      "---------\n",
      "\n",
      "['EQUIPO', 'CERTIFICACIÓN', 'BEST', 'PLACE', 'TO', 'CODE', 'Ciudad', 'México', 'DESARROLLADOR', 'JAVA', 'LIBRES', 'lunes', 'viernes', 'Home', 'Office', 'Licenciatura', 'Mínimo', 'Desarrollandor', 'Java', 'Java', 'JSP', 'JSF', 'HTML', 'JavaScript', 'Query', 'Frameworks', 'Hibernate', 'Spring', 'Struts', 'Servers', 'Application', 'ApacheTomcat', 'Glassfish', 'JBoss', 'WebLogic', 'IDE', 'Eclipse', 'Netbeans', 'XML', 'XSLT', 'Web', 'Services', 'SQL', 'Server', 'MySQL', 'Oracle', 'UML', 'Entendimiento', 'Windows', 'Linux', 'Unix', 'SERTI']\n",
      "---------\n",
      "\n",
      "['Monterrey', 'Distribution', 'Center', 'Hight', 'School', 'conclud', 'OSHA', 'Affirmative', 'Action', 'Employer']\n",
      "---------\n",
      "\n",
      "['Analista', 'Mercado', 'Sr.Requisitos', 'Profesionales', 'Mercadotecnia', 'Publicidad', 'Ingenierías', 'puestoNivel', 'IntermedioManejo', 'Excel', 'avanzadoObjetivo', 'mercado.Principales', 'Funciones', 'Análisis', 'Mercado', 'Excel', 'tabularesGenerar', 'Diseño', 'Cuestionarios', 'Guías', 'Cualitativos.Habilidades', 'Ofrecemos', 'leyPostúlate', 'CV', 'WhatssApp', 'Tipo', 'IndefinidoEnvíanos', 'CV', 'Tipo', 'IndefinidoSalario', 'mesExperiencia', 'COVID']\n",
      "---------\n",
      "\n",
      "['Technical', 'Lead', 'Software', 'Engineer', 'Scrum', 'Teams', 'Lead', 'Developer', 'Planning', 'Inspect', 'Story', 'E', 'Computer', 'Science', 'Java', 'J', 'EE', 'OOAD', 'Java', 'Juice', 'JSON', 'Ajax', 'Java', 'JEE', 'Spring', 'Boot', 'REST', 'APIs', 'TDD', 'DDD', 'S', 'DynamoDB', 'SNS', 'SES', 'EC', 'MySQL', 'Oracle', 'NoSQL', 'DB', 'SQL', 'GitHub', 'Docker', 'CI', 'NFR', 'Cost', 'Javascript', 'Ajax', 'Bootstrap', 'CSS', 'Angular', 'JS', 'SonarQube', 'Semmle', 'Veracode', 'NetSparker', 'Ansible', 'AWS', 'Certified', 'Solution', 'Architect', 'Associate']\n",
      "---------\n",
      "\n",
      "['Scale', 'SQL', 'Machine', 'Learning', 'APIs', 'OpenAI', 'Zoox', 'Lyft', 'Pinterest', 'Airbnb', 'nuTonomy', 'Scale', 'United', 'States', 'Department', 'Labor', 'EEO']\n",
      "---------\n",
      "\n",
      "['EXPANSIÓN', 'TE', 'INVIA', 'A', 'INGENIENIERO', 'DEVOS', 'Sistemas', 'Javascript', 'Java', 'Python', 'PHP', 'MySQL', 'Tomcat', 'Datos', 'MySQL', 'MariaDB', 'PostgreSQL', 'REST', 'API', 'Web', 'services', 'Framework', 'Spring', 'MVC', 'Scripting', 'Perl', 'Java', 'Power', 'Shell', 'Marco', 'ITIL', 'Proceso', 'Cambios', 'CMDB', 'Redes', 'Telecomunicaciones', 'Sistemas', 'Operativos', 'Linux', 'Herramientas', 'Monitoreo', 'NET', 'C', 'Nómina', 'Prestaciones', 'deLey']\n",
      "---------\n",
      "\n",
      "['Americas', 'Communications', 'Americas', 'Thought', 'Leadership', 'Thought', 'Cisco', 'Live', 'Partner', 'Summit', 'Impact', 'Drive', 'Write', 'Employee', 'Craft', 'Execute', 'Create', 'Create', 'OneMob', 'Strategic', 'Communications', 'Americas', 'Communications', 'Americas', 'LATAM', 'Cisco', '#WeAreCisco']\n",
      "---------\n",
      "\n",
      "['Desarrollador', 'Sr', 'Front', 'Nueva', 'York', 'Desarrolladores', 'FrontEnd', 'Sr', 'Desarrollador', 'Sr', 'Front', 'Javascript', 'React', 'Node.js', 'Mongo', 'DB', 'Perfil', 'Front', 'End', 'Developer', 'Javascript', 'HTML', 'CSS', 'React', 'Node', 'js', 'DB', 'Skills', 'Enfoque', 'Liderazgo']\n",
      "---------\n",
      "\n",
      "['Sr', 'Process', 'Engineer', 'Guadalajara', 'North', 'Campus', 'Process', 'Engineering', 'BTL', 'RTY', 'RWK', 'Yield', 'SPI', 'cpk', 'Rework', 'SMT', 'Back', 'End', 'PTH', 'SPI', 'Lean', 'Manufacturing', 'IPC', 'Christmas', 'Bonus', 'LI', 'AB', 'AB', 'Flex', 'Flex', 'CV']\n",
      "---------\n",
      "\n",
      "['RB', 'Ciudad', 'de', 'Mexico', 'Ciudad', 'de', 'Mexico', 'MRP', 'Return', 'RB', 'RB']\n",
      "---------\n",
      "\n",
      "['FOXCONN', '_', 'SCIENTIFIC', 'ATLANTA', 'MÉXICO', 'BASE', 'Datos', 'Sistemas', 'Computación', 'Oracle', 'Ingles', 'Español', 'Windows', 'Linux', 'PL', 'SQL', 'Redes', 'Microsoft', 'Windows', 'Linux', 'Software', 'Microsoft', 'Office', 'Certificación', 'DBA', 'Oracle', 'Deseable', 'Tipo', 'Pais', 'MEXICO', 'Region', 'Chihuahua', 'Ciudad', 'Juarez']\n",
      "---------\n",
      "\n",
      "['MANAGEMENTWe', 'Advanced', 'English', 'Professional', 'LicenseTechnical', 'MDM', 'Hierarchy', 'Management', 'ActiveVOS', 'UI', 'Business', 'Entity', 'Framework', 'Business', 'Entity', 'Services', 'Java', 'MDM', 'File', 'Import', 'BE', 'Elastic', 'Search', 'configurationWe', 'Offer', 'monthSalary', 'Guadalajara', 'Mexico', 'México', 'PDF', 'ENGLISH.Tipo', 'de', 'Tiempo', 'completo', 'IndefinidoSalario', 'al', 'mesExperiencia', 'Puesto', 'Requisito', 'Idioma', 'Requisito', 'Trabajar', 'Sí']\n",
      "---------\n",
      "\n",
      "['UX', 'UI', 'Desarrollo', 'Atlanta', 'Latam', 'México', 'IoT', 'Big', 'Data', 'IA', 'lunes', 'viernes', 'Home', 'Office', 'Arquitecto', 'Magento', 'architect', 'Arquitecto', 'PHP', 'PHP', 'Magento', 'Dev', 'PHP', 'Magento', 'Magento', 'Developer', 'Líder', 'Líder', 'PHP', 'Arquitecto', 'PHP', 'Magento', 'Commerce', 'Edition', 'Diseñando', 'Solution', 'EEUU', 'Magento', 'Enterprise', 'Drupal', 'Demandware', 'SOA', 'Desarrollo', 'Front', 'End', 'HTML', 'CSS', 'Bootstrap', 'JQuery', 'AJAX', 'JavaScript', 'Node.JS', 'API', 'SAP', 'Dynamics', 'Oracle', 'PHP', 'OOP', 'HTML', 'CSS', 'jQuery', 'Javascript', 'MySQL', 'SO', 'Linux', 'Shell', 'PMP', 'MySQL', 'SQLite', 'SQL', 'Server', 'Mongo', 'DB', 'MariaDB', 'AppDynamic', 'New', 'Relic', 'SOA', 'REST', 'SOAP', 'Experiencia', 'APIs', 'Magento', 'UML', 'GitHub', 'SVN', 'Bitbucket', 'XP', 'Scrum', 'testing', 'AUT', 'IT', 'Sistemas', 'Operativos', 'Unix', 'Linux', 'JUnit', 'Grunt', 'Gulp', 'Frameworks', 'Angular', 'React', 'Vue.JS', 'XML', 'ASP.Net', 'Talenteca.com']\n",
      "---------\n",
      "\n",
      "['It', 's', 'How', 'we', 'communicate', 'is', 'evolving', 'Technology', 'is', 'reshaping', 'learn', 'Our', 'experts', 'role', 'bandwidth', 'expand', 'capacity', 'efficiency', 'speed', 'deployment', 'simplify', 'migration', 'From', 'the', 'world', '’', 's', 'most', 'advanced', 'networks', 'rely', 'on', 'CommScope', 'connectivity', 'Immigration', 'Language', 'THIS', 'NOTICE', 'IS', 'BEING', 'POSTED', 'AS', 'A', 'RESULT', 'OF', 'AN', 'APPLICATION', 'FOR', 'PERMANENT', 'ALIEN', 'LABOR', 'CERTIFICATION', 'FOR', 'THE', 'POSITION', 'OF', 'APPLICATIONS', 'ENGINEER', 'ANY', 'PERSON', 'MAY', 'PROVIDE', 'DOCUMENTARY', 'EVIDENCE', 'BEARING', 'ON', 'THE', 'APPLICATION', 'TO', 'THE', 'NATIONAL', 'PROCESSING', 'CENTER', 'OFFICE', 'AND', 'OR', 'CERTIFYING', 'OFFICER', 'OF', 'THE', 'U.S.', 'DEPARTMENT', 'OF', 'LABOR', 'U.S.', 'Department', 'of', 'Labor', 'Employment', 'Training', 'Administration', 'Harris', 'Tower', 'Peachtree', 'Street', 'NE', 'Suite', 'Atlanta', 'GA', 'Tool', 'Index', 'Commscope', 'Delicias', 'EDUCACION', 'EXPERIENCIA', 'Mantenimiento', 'Productivo', 'Total', 'Mantenimiento', 'SAP', 'SAP', 'Modulo', 'Mantenimiento', 'SAP', 'Basico', 'Metrologia', 'Dimensional', 'Manual', 'TL', 'SAP', 'Modulo', 'Equipo', 'PC', 'Equipo', 'Personal', 'Interpretacion']\n",
      "---------\n",
      "\n",
      "['lunes', 'viernes', 'Fortín', 'Zapopan', 'IoT', 'IA', 'profesional.De', 'Experiencia', 'Conocimiento', 'ReactJS', 'React', 'Native', 'front', 'Experiencia', 'Back', 'End', 'JAVA', 'framework', 'Spring', 'Spring', 'Boot', 'Hibernate', 'Postgresql', 'MySQL', 'SQL', 'Server', 'Mongo', 'DB', 'Experiencia', 'REST', 'Sistemas', 'Operativos', 'Unix', 'Linux', 'JUnit', 'Mockito', 'Git', 'Metodologías', 'Documentación', 'líneaIDEAL', 'Nociones', 'AWS', 'Google', 'Cloud', 'Azure', 'Linux', 'Conocimiento', 'Docker', 'Kubernetes', 'UX', 'UI', 'Experiencia', 'testing', 'XP', 'Scrum', 'Tipo', 'IndefinidoSalario']\n",
      "---------\n",
      "\n",
      "['Jabil', 'endeavors.Be', 'times.Directs', 'Manufacturing', 'Engineering', 'Technicians', 'Manufacturing', 'Engineering', 'Technicians', 'Manufacturing', 'Engineering', 'Assistants', 'PD', 'Manufacturing', 'Engineers', 'Manufacturing', 'Engineering', 'Technicians', 'Machine', 'Support', 'Technicians', 'Manufacturing', 'Engineering', 'Technician', 'I.R.', 'DFM', 'PD', 'back-ups', 'Windows', 'Jabil', 'Jabil']\n",
      "---------\n",
      "\n",
      "['John', 'Deere', 'Mexico', 'MX', 'Coahuila', 'IJD', 'Saltillo', 'John', 'Deere', 'Turf', 'Forestry', 'Wind', 'Technologies', 'John', 'Deere', 'John', 'Deere', 'John', 'Deere', 'EPDP', 'Enterprise', 'Order', 'Fulfillment', 'Process', 'EOFP', 'CSP', 'Analysis', 'FMEA', 'CSP', 'CI', 'Value', 'Improvement', 'VI', 'John', 'Deere', 'Quality', 'Control', 'PDP', 'Product', 'Delivery', 'Process', 'PDP', 'Assembly', 'Reviews', 'FMEA', 'Failure', 'Modes', 'Effect', 'Analysis', 'SPC', 'Statistical', 'Process', 'Control', 'Root', 'Cause', 'Analysis', 'Statistics', 'John', 'Deere', 'John', 'Deere']\n",
      "---------\n",
      "\n",
      "['John', 'Deere', 'Mexico', 'MX', 'Coahuila', 'Motores', 'JD', 'Torreon', 'Responsabilities', 'Deere', 'Production', 'System', 'EPDP', 'Electronic', 'Engineering', 'Mechatronic', 'Engineering']\n",
      "---------\n",
      "\n",
      "['INVESTMENT', 'BANKING', 'México', 'BBVA', 'Bancomer', 'Servicios', 'Administrativos', 'S.A.', 'C.V.', 'M', 'CIB', 'Lic', 'BBVA', 'Gastos', 'Médicos', 'Mayores', 'Universidad', 'BBVA', 'Centro', 'Idiomas', 'BBVA', 'Dirección', 'Inversión', 'Dirección', 'General', 'Inversión', 'Grupo', 'BBVA', 'México', 'México', 'BPE', 'CIB', 'Análisis', 'Ios', 'End', 'to', 'End', 'CIB', 'To', 'Be', 'SDA', 'SCRUM', 'Team', 'SDA', 'SCRUM', 'Team', 'DATA', 'STUDIO', 'KPI', 'Generacionales', 'BBVA', 'BBVA', 'BBVA', 'BBVA', 'BBVA']\n",
      "---------\n",
      "\n",
      "['Strategic', 'Services', 'Practice', 'Large', 'Deal', 'Methodology', 'CX', 'Centers', 'CX', 'Strategic', 'Services', 'Engine', 'CX', 'Center', 'CX', 'Centers', 'L', 'Delivery', 'Strategy', 'Delivery', 'Methodology', 'Demand', 'Escalation', 'Management', 'Continuous', 'Service', 'Improvement', 'Financial', 'Relationship', 'Management', 'Cisco', 'LDM', 'CX', 'Centers', 'Cisco', 'Strategic', 'Services', 'Engine', 'Lines', 'Business', 'Service', 'Delivery', 'Architect', 'High', 'Level', 'Design', 'CX', 'Region', 'Engine', 'CX', 'Center', 'CX', 'Center', 'CX', 'Center', 'Region', 'Retail', 'Service', 'Provider', 'Data', 'Center', 'Technologies', 'Cisco', 'CX', 'Centers', 'Cisco', 'CX', 'Centers', 'Cisco', 'CX', 'Center', 'Foundations', 'Strategic', 'Services', 'Engine', 'Delivery', 'Readiness', 'CXPM', 'BUs', 'Data', 'Center', 'Cisco', '#WeAreCisco', 'Cisco', 'Equal', 'Opportunity', 'Employer']\n",
      "---------\n",
      "\n"
     ]
    }
   ],
   "source": [
    "for lista in array_results[index_sample]:\n",
    "    print(lista)\n",
    "    print('---------')\n",
    "    print()"
   ]
  },
  {
   "cell_type": "code",
   "execution_count": 134,
   "metadata": {},
   "outputs": [
    {
     "data": {
      "text/plain": [
       "167"
      ]
     },
     "execution_count": 134,
     "metadata": {},
     "output_type": "execute_result"
    }
   ],
   "source": [
    "suma_nube"
   ]
  },
  {
   "cell_type": "code",
   "execution_count": null,
   "metadata": {},
   "outputs": [],
   "source": []
  },
  {
   "cell_type": "code",
   "execution_count": null,
   "metadata": {},
   "outputs": [],
   "source": []
  },
  {
   "cell_type": "code",
   "execution_count": null,
   "metadata": {},
   "outputs": [],
   "source": []
  },
  {
   "cell_type": "code",
   "execution_count": null,
   "metadata": {},
   "outputs": [],
   "source": []
  },
  {
   "cell_type": "code",
   "execution_count": null,
   "metadata": {},
   "outputs": [],
   "source": []
  },
  {
   "cell_type": "code",
   "execution_count": null,
   "metadata": {},
   "outputs": [],
   "source": []
  },
  {
   "cell_type": "code",
   "execution_count": 38,
   "metadata": {},
   "outputs": [],
   "source": [
    "from nltk.corpus import stopwords"
   ]
  },
  {
   "cell_type": "code",
   "execution_count": 104,
   "metadata": {},
   "outputs": [],
   "source": [
    "from sklearn.feature_extraction.text import TfidfVectorizer\n",
    "from sklearn.cluster import KMeans\n",
    "from sklearn.metrics import adjusted_rand_score\n",
    "\n",
    "documents = [\"This little kitty came to play when I was eating at a restaurant.\",\n",
    "             \"Merley has the best squooshy kitten belly.\",\n",
    "             \"Google Translate app is incredible.\",\n",
    "             \"If you open 100 tab in google you get a smiley face.\",\n",
    "             \"Best cat photo I've ever taken.\",\n",
    "             \"Climbing ninja cat.\",\n",
    "             \"Impressed with google map feedback.\",\n",
    "             \"Key promoter extension for Google Chrome.\"]\n",
    "\n",
    "# documents=list(df.descripcion)\n",
    "\n",
    "# vectorizer = TfidfVectorizer(stop_words=stopwords.words('spanish'))\n",
    "vectorizer = TfidfVectorizer(stop_words='english')\n",
    "X = vectorizer.fit_transform(documents)"
   ]
  },
  {
   "cell_type": "code",
   "execution_count": 107,
   "metadata": {},
   "outputs": [
    {
     "data": {
      "text/plain": [
       "array([[ 0, 29, 28, 27, 25, 22, 20, 19, 31, 15, 14, 13, 16, 11, 10,  9,\n",
       "         6,  1, 12,  2,  3,  8, 17, 18, 24,  4, 26, 30, 32, 23, 21,  7,\n",
       "         5],\n",
       "       [32, 30,  4,  5,  7,  8, 26, 24, 23, 21, 18, 17,  3, 29, 27, 22,\n",
       "         0, 10, 20, 28,  2, 16, 15, 25,  9,  6, 14, 19, 13, 11,  1, 31,\n",
       "        12]])"
      ]
     },
     "execution_count": 107,
     "metadata": {},
     "output_type": "execute_result"
    }
   ],
   "source": [
    "model.cluster_centers_.argsort()"
   ]
  },
  {
   "cell_type": "code",
   "execution_count": 106,
   "metadata": {},
   "outputs": [
    {
     "name": "stdout",
     "output_type": "stream",
     "text": [
      "Top terms per cluster:\n",
      "Cluster 0:\n",
      " cat\n",
      " climbing\n",
      " ninja\n",
      " photo\n",
      " ve\n",
      " taken\n",
      " restaurant\n",
      " came\n",
      " play\n",
      " little\n",
      "Cluster 1:\n",
      " google\n",
      " translate\n",
      " app\n",
      " feedback\n",
      " impressed\n",
      " map\n",
      " incredible\n",
      " chrome\n",
      " extension\n",
      " promoter\n",
      "\n",
      "\n",
      "Prediction\n",
      "[1]\n",
      "[0]\n"
     ]
    }
   ],
   "source": [
    "true_k = 2\n",
    "model = KMeans(n_clusters=true_k, init='k-means++', max_iter=100, n_init=1)\n",
    "model.fit(X)\n",
    "\n",
    "print(\"Top terms per cluster:\")\n",
    "order_centroids = model.cluster_centers_.argsort()[:, ::-1]\n",
    "terms = vectorizer.get_feature_names()\n",
    "for i in range(true_k):\n",
    "    print(\"Cluster %d:\" % i),\n",
    "    for ind in order_centroids[i, :10]:\n",
    "        print(' %s' % terms[ind]),\n",
    "    print\n",
    "\n",
    "print(\"\\n\")\n",
    "print(\"Prediction\")\n",
    "\n",
    "Y = vectorizer.transform([\"chrome browser to open.\"])\n",
    "prediction = model.predict(Y)\n",
    "print(prediction)\n",
    "\n",
    "Y = vectorizer.transform([\"My cat is hungry.\"])\n",
    "prediction = model.predict(Y)\n",
    "print(prediction)\n",
    " "
   ]
  },
  {
   "cell_type": "code",
   "execution_count": null,
   "metadata": {},
   "outputs": [],
   "source": []
  }
 ],
 "metadata": {
  "kernelspec": {
   "display_name": "Python 3",
   "language": "python",
   "name": "python3"
  },
  "language_info": {
   "codemirror_mode": {
    "name": "ipython",
    "version": 3
   },
   "file_extension": ".py",
   "mimetype": "text/x-python",
   "name": "python",
   "nbconvert_exporter": "python",
   "pygments_lexer": "ipython3",
   "version": "3.7.7"
  }
 },
 "nbformat": 4,
 "nbformat_minor": 2
}
