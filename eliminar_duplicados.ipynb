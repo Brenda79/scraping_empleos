{
 "cells": [
  {
   "cell_type": "markdown",
   "metadata": {},
   "source": [
    "## DATA SCIENCE"
   ]
  },
  {
   "cell_type": "code",
   "execution_count": 1,
   "metadata": {},
   "outputs": [],
   "source": [
    "import pandas as pd\n",
    "import os\n",
    "import numpy as np"
   ]
  },
  {
   "cell_type": "code",
   "execution_count": 17,
   "metadata": {},
   "outputs": [],
   "source": [
    "path='csvs'\n",
    "csvs=os.listdir(path)\n",
    "dfs=[pd.read_csv(os.path.join(path,csv)) for csv in csvs if '.csv' in csv]"
   ]
  },
  {
   "cell_type": "code",
   "execution_count": 232,
   "metadata": {},
   "outputs": [],
   "source": [
    "test=pd.concat(dfs,sort=False).reset_index(drop=True).loc[:,['titulo','empresa','descripcion']]\n",
    "test1=test.drop_duplicates().reset_index(drop=True)\n",
    "test2=test.drop_duplicates(subset=['titulo','empresa'],keep='last').reset_index(drop=True)"
   ]
  },
  {
   "cell_type": "code",
   "execution_count": 238,
   "metadata": {},
   "outputs": [],
   "source": [
    "des1=list(set(test1.descripcion).difference(set(test2.descripcion)))"
   ]
  },
  {
   "cell_type": "code",
   "execution_count": 227,
   "metadata": {},
   "outputs": [
    {
     "data": {
      "text/html": [
       "<div>\n",
       "<style scoped>\n",
       "    .dataframe tbody tr th:only-of-type {\n",
       "        vertical-align: middle;\n",
       "    }\n",
       "\n",
       "    .dataframe tbody tr th {\n",
       "        vertical-align: top;\n",
       "    }\n",
       "\n",
       "    .dataframe thead th {\n",
       "        text-align: right;\n",
       "    }\n",
       "</style>\n",
       "<table border=\"1\" class=\"dataframe\">\n",
       "  <thead>\n",
       "    <tr style=\"text-align: right;\">\n",
       "      <th></th>\n",
       "      <th>titulo</th>\n",
       "      <th>empresa</th>\n",
       "      <th>descripcion</th>\n",
       "    </tr>\n",
       "  </thead>\n",
       "  <tbody>\n",
       "    <tr>\n",
       "      <th>24</th>\n",
       "      <td>Analistas de Datos</td>\n",
       "      <td>Grupo 30 inventos</td>\n",
       "      <td>Somos una agencia con más de 10 años de vida e...</td>\n",
       "    </tr>\n",
       "    <tr>\n",
       "      <th>185</th>\n",
       "      <td>Test Engineer</td>\n",
       "      <td>Flex</td>\n",
       "      <td>The Test Engineer . Will be based in Guadalaja...</td>\n",
       "    </tr>\n",
       "    <tr>\n",
       "      <th>257</th>\n",
       "      <td>Specification Analyst</td>\n",
       "      <td>John Deere</td>\n",
       "      <td>There are 7 billion people on this planet. And...</td>\n",
       "    </tr>\n",
       "    <tr>\n",
       "      <th>261</th>\n",
       "      <td>ADAS Algorithm Development Engineer</td>\n",
       "      <td>Continental AG</td>\n",
       "      <td>Tasks\\n\\nThe Sensing and Driving Functions Alg...</td>\n",
       "    </tr>\n",
       "    <tr>\n",
       "      <th>312</th>\n",
       "      <td>Principal Systems Administrator 2</td>\n",
       "      <td>Skyworks</td>\n",
       "      <td>Principal Business Systems Analyst 2\\n\\nPositi...</td>\n",
       "    </tr>\n",
       "    <tr>\n",
       "      <th>377</th>\n",
       "      <td>Java Developer</td>\n",
       "      <td>IBM</td>\n",
       "      <td>Introduction\\n\\nAs an Application Developer, y...</td>\n",
       "    </tr>\n",
       "    <tr>\n",
       "      <th>395</th>\n",
       "      <td>IMPORTANT SOFTWARE COMPANY REQUESTS:</td>\n",
       "      <td>Human Staff</td>\n",
       "      <td>Requirements\\n\\n 2+ years of professional expe...</td>\n",
       "    </tr>\n",
       "    <tr>\n",
       "      <th>445</th>\n",
       "      <td>Credit Risk Analytics Lead</td>\n",
       "      <td>Kueski</td>\n",
       "      <td>Why Kueski\\n\\n\\n\\n\"DO TECH SHARE WEALTH\"\\n\\n\\n...</td>\n",
       "    </tr>\n",
       "  </tbody>\n",
       "</table>\n",
       "</div>"
      ],
      "text/plain": [
       "                                   titulo            empresa  \\\n",
       "24                     Analistas de Datos  Grupo 30 inventos   \n",
       "185                         Test Engineer               Flex   \n",
       "257                 Specification Analyst         John Deere   \n",
       "261   ADAS Algorithm Development Engineer     Continental AG   \n",
       "312     Principal Systems Administrator 2           Skyworks   \n",
       "377                        Java Developer                IBM   \n",
       "395  IMPORTANT SOFTWARE COMPANY REQUESTS:        Human Staff   \n",
       "445            Credit Risk Analytics Lead             Kueski   \n",
       "\n",
       "                                           descripcion  \n",
       "24   Somos una agencia con más de 10 años de vida e...  \n",
       "185  The Test Engineer . Will be based in Guadalaja...  \n",
       "257  There are 7 billion people on this planet. And...  \n",
       "261  Tasks\\n\\nThe Sensing and Driving Functions Alg...  \n",
       "312  Principal Business Systems Analyst 2\\n\\nPositi...  \n",
       "377  Introduction\\n\\nAs an Application Developer, y...  \n",
       "395  Requirements\\n\\n 2+ years of professional expe...  \n",
       "445  Why Kueski\\n\\n\\n\\n\"DO TECH SHARE WEALTH\"\\n\\n\\n...  "
      ]
     },
     "execution_count": 227,
     "metadata": {},
     "output_type": "execute_result"
    }
   ],
   "source": [
    "test1[(test1['descripcion']==des1[0]) | (test1['descripcion']==des1[1]) | (test1['descripcion']==des1[2]) |\n",
    "     (test1['descripcion']==des1[3]) | (test1['descripcion']==des1[4]) | (test1['descripcion']==des1[5])\n",
    "     | (test1['descripcion']==des1[6]) | (test1['descripcion']==des1[7])]"
   ]
  },
  {
   "cell_type": "code",
   "execution_count": 235,
   "metadata": {},
   "outputs": [
    {
     "data": {
      "text/html": [
       "<div>\n",
       "<style scoped>\n",
       "    .dataframe tbody tr th:only-of-type {\n",
       "        vertical-align: middle;\n",
       "    }\n",
       "\n",
       "    .dataframe tbody tr th {\n",
       "        vertical-align: top;\n",
       "    }\n",
       "\n",
       "    .dataframe thead th {\n",
       "        text-align: right;\n",
       "    }\n",
       "</style>\n",
       "<table border=\"1\" class=\"dataframe\">\n",
       "  <thead>\n",
       "    <tr style=\"text-align: right;\">\n",
       "      <th></th>\n",
       "      <th>titulo</th>\n",
       "      <th>empresa</th>\n",
       "      <th>descripcion</th>\n",
       "    </tr>\n",
       "  </thead>\n",
       "  <tbody>\n",
       "    <tr>\n",
       "      <th>24</th>\n",
       "      <td>Analistas de Datos</td>\n",
       "      <td>Grupo 30 inventos</td>\n",
       "      <td>Somos una agencia con más de 10 años de vida e...</td>\n",
       "    </tr>\n",
       "    <tr>\n",
       "      <th>675</th>\n",
       "      <td>Analistas de Datos</td>\n",
       "      <td>Grupo 30 inventos</td>\n",
       "      <td>Somos una agencia con más de 10 años de vida e...</td>\n",
       "    </tr>\n",
       "  </tbody>\n",
       "</table>\n",
       "</div>"
      ],
      "text/plain": [
       "                 titulo            empresa  \\\n",
       "24   Analistas de Datos  Grupo 30 inventos   \n",
       "675  Analistas de Datos  Grupo 30 inventos   \n",
       "\n",
       "                                           descripcion  \n",
       "24   Somos una agencia con más de 10 años de vida e...  \n",
       "675  Somos una agencia con más de 10 años de vida e...  "
      ]
     },
     "execution_count": 235,
     "metadata": {},
     "output_type": "execute_result"
    }
   ],
   "source": [
    "test1[test1['titulo']=='Analistas de Datos']"
   ]
  },
  {
   "cell_type": "code",
   "execution_count": 236,
   "metadata": {},
   "outputs": [
    {
     "data": {
      "text/html": [
       "<div>\n",
       "<style scoped>\n",
       "    .dataframe tbody tr th:only-of-type {\n",
       "        vertical-align: middle;\n",
       "    }\n",
       "\n",
       "    .dataframe tbody tr th {\n",
       "        vertical-align: top;\n",
       "    }\n",
       "\n",
       "    .dataframe thead th {\n",
       "        text-align: right;\n",
       "    }\n",
       "</style>\n",
       "<table border=\"1\" class=\"dataframe\">\n",
       "  <thead>\n",
       "    <tr style=\"text-align: right;\">\n",
       "      <th></th>\n",
       "      <th>titulo</th>\n",
       "      <th>empresa</th>\n",
       "      <th>descripcion</th>\n",
       "    </tr>\n",
       "  </thead>\n",
       "  <tbody>\n",
       "    <tr>\n",
       "      <th>185</th>\n",
       "      <td>Test Engineer</td>\n",
       "      <td>Flex</td>\n",
       "      <td>The Test Engineer . Will be based in Guadalaja...</td>\n",
       "    </tr>\n",
       "    <tr>\n",
       "      <th>690</th>\n",
       "      <td>Test Engineer</td>\n",
       "      <td>Flex</td>\n",
       "      <td>The Test Engineer will be based in Guadalajara...</td>\n",
       "    </tr>\n",
       "    <tr>\n",
       "      <th>715</th>\n",
       "      <td>Test Engineer</td>\n",
       "      <td>John Deere</td>\n",
       "      <td>There are 7 billion people on this planet. And...</td>\n",
       "    </tr>\n",
       "  </tbody>\n",
       "</table>\n",
       "</div>"
      ],
      "text/plain": [
       "            titulo     empresa  \\\n",
       "185  Test Engineer        Flex   \n",
       "690  Test Engineer        Flex   \n",
       "715  Test Engineer  John Deere   \n",
       "\n",
       "                                           descripcion  \n",
       "185  The Test Engineer . Will be based in Guadalaja...  \n",
       "690  The Test Engineer will be based in Guadalajara...  \n",
       "715  There are 7 billion people on this planet. And...  "
      ]
     },
     "execution_count": 236,
     "metadata": {},
     "output_type": "execute_result"
    }
   ],
   "source": [
    "test1[test1['titulo']=='Test Engineer']"
   ]
  },
  {
   "cell_type": "code",
   "execution_count": 239,
   "metadata": {},
   "outputs": [
    {
     "data": {
      "text/html": [
       "<div>\n",
       "<style scoped>\n",
       "    .dataframe tbody tr th:only-of-type {\n",
       "        vertical-align: middle;\n",
       "    }\n",
       "\n",
       "    .dataframe tbody tr th {\n",
       "        vertical-align: top;\n",
       "    }\n",
       "\n",
       "    .dataframe thead th {\n",
       "        text-align: right;\n",
       "    }\n",
       "</style>\n",
       "<table border=\"1\" class=\"dataframe\">\n",
       "  <thead>\n",
       "    <tr style=\"text-align: right;\">\n",
       "      <th></th>\n",
       "      <th>titulo</th>\n",
       "      <th>empresa</th>\n",
       "      <th>descripcion</th>\n",
       "    </tr>\n",
       "  </thead>\n",
       "  <tbody>\n",
       "    <tr>\n",
       "      <th>257</th>\n",
       "      <td>Specification Analyst</td>\n",
       "      <td>John Deere</td>\n",
       "      <td>There are 7 billion people on this planet. And...</td>\n",
       "    </tr>\n",
       "    <tr>\n",
       "      <th>743</th>\n",
       "      <td>Specification Analyst</td>\n",
       "      <td>John Deere</td>\n",
       "      <td>There are 7 billion people on this planet. And...</td>\n",
       "    </tr>\n",
       "  </tbody>\n",
       "</table>\n",
       "</div>"
      ],
      "text/plain": [
       "                    titulo     empresa  \\\n",
       "257  Specification Analyst  John Deere   \n",
       "743  Specification Analyst  John Deere   \n",
       "\n",
       "                                           descripcion  \n",
       "257  There are 7 billion people on this planet. And...  \n",
       "743  There are 7 billion people on this planet. And...  "
      ]
     },
     "execution_count": 239,
     "metadata": {},
     "output_type": "execute_result"
    }
   ],
   "source": [
    "test1[test1['titulo']=='Specification Analyst']"
   ]
  },
  {
   "cell_type": "code",
   "execution_count": 207,
   "metadata": {},
   "outputs": [
    {
     "data": {
      "text/plain": [
       "(751, 3)"
      ]
     },
     "execution_count": 207,
     "metadata": {},
     "output_type": "execute_result"
    }
   ],
   "source": [
    "test1.shape"
   ]
  },
  {
   "cell_type": "code",
   "execution_count": 225,
   "metadata": {},
   "outputs": [
    {
     "data": {
      "text/plain": [
       "(743, 3)"
      ]
     },
     "execution_count": 225,
     "metadata": {},
     "output_type": "execute_result"
    }
   ],
   "source": [
    "test2.shape"
   ]
  },
  {
   "cell_type": "markdown",
   "metadata": {},
   "source": [
    "## Vemos que el caso correcto es el test2, entonces usamos ese"
   ]
  },
  {
   "cell_type": "code",
   "execution_count": 244,
   "metadata": {},
   "outputs": [],
   "source": [
    "df=test2\n",
    "df.to_csv('trabajos_datascience.csv',index=False)"
   ]
  },
  {
   "cell_type": "code",
   "execution_count": null,
   "metadata": {},
   "outputs": [],
   "source": []
  },
  {
   "cell_type": "code",
   "execution_count": null,
   "metadata": {},
   "outputs": [],
   "source": []
  },
  {
   "cell_type": "markdown",
   "metadata": {},
   "source": [
    "## EMPLEOS TOTALES"
   ]
  },
  {
   "cell_type": "code",
   "execution_count": 11,
   "metadata": {},
   "outputs": [],
   "source": [
    "datasience=pd.read_csv('trabajos_datascience.csv')"
   ]
  },
  {
   "cell_type": "code",
   "execution_count": 2,
   "metadata": {},
   "outputs": [],
   "source": [
    "path='alljobs_categorias_estado/'\n",
    "csvs=os.listdir(path)\n",
    "dfs=[pd.read_csv(os.path.join(path,csv)) for csv in csvs]"
   ]
  },
  {
   "cell_type": "code",
   "execution_count": 3,
   "metadata": {},
   "outputs": [],
   "source": [
    "test=pd.concat(dfs,sort=False).reset_index(drop=True)\n",
    "test2=test.drop_duplicates().reset_index(drop=True)"
   ]
  },
  {
   "cell_type": "code",
   "execution_count": 4,
   "metadata": {},
   "outputs": [],
   "source": [
    "test2.to_csv('trabajos_en_mexico_v3.csv',index=False)"
   ]
  },
  {
   "cell_type": "code",
   "execution_count": null,
   "metadata": {},
   "outputs": [],
   "source": []
  }
 ],
 "metadata": {
  "kernelspec": {
   "display_name": "Python 3.7.5 64-bit ('toughenv': conda)",
   "language": "python",
   "name": "python37564bittoughenvconda10c22ec9b2ab438aab78bd3ff93ae9c0"
  },
  "language_info": {
   "codemirror_mode": {
    "name": "ipython",
    "version": 3
   },
   "file_extension": ".py",
   "mimetype": "text/x-python",
   "name": "python",
   "nbconvert_exporter": "python",
   "pygments_lexer": "ipython3",
   "version": "3.7.7"
  }
 },
 "nbformat": 4,
 "nbformat_minor": 4
}
